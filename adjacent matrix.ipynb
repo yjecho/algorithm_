{
 "cells": [
  {
   "cell_type": "code",
   "execution_count": 1,
   "id": "ee65391a",
   "metadata": {},
   "outputs": [
    {
     "name": "stdout",
     "output_type": "stream",
     "text": [
      "[1, 8, 4, 7, 3, 9, 5, 2, 6]\n"
     ]
    }
   ],
   "source": [
    "a = [[1, 8, 4], \n",
    "     [7, 3, 9], \n",
    "     [5, 2, 6]]\n",
    "\n",
    "trails = []\n",
    "\n",
    "for r in range(3):\n",
    "    for c in range(3):\n",
    "        trails.append(a[r][c])\n",
    "\n",
    "print(trails)"
   ]
  },
  {
   "cell_type": "code",
   "execution_count": null,
   "id": "0c0bed1e",
   "metadata": {},
   "outputs": [],
   "source": []
  }
 ],
 "metadata": {
  "kernelspec": {
   "display_name": "Python 3 (ipykernel)",
   "language": "python",
   "name": "python3"
  },
  "language_info": {
   "codemirror_mode": {
    "name": "ipython",
    "version": 3
   },
   "file_extension": ".py",
   "mimetype": "text/x-python",
   "name": "python",
   "nbconvert_exporter": "python",
   "pygments_lexer": "ipython3",
   "version": "3.9.7"
  }
 },
 "nbformat": 4,
 "nbformat_minor": 5
}
