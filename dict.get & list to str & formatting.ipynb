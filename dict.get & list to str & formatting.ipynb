{
 "cells": [
  {
   "cell_type": "code",
   "execution_count": 2,
   "id": "b1a9ad6c",
   "metadata": {},
   "outputs": [],
   "source": [
    "cards = [1, 3, 22, 5] # 몇개 없는데다 그마저도 떨어져 있다면?"
   ]
  },
  {
   "cell_type": "code",
   "execution_count": 3,
   "id": "540d7f51",
   "metadata": {},
   "outputs": [],
   "source": [
    "count_dict = dict()  # .get 으로 없는걸 부를땐 None 을 반환합니다."
   ]
  },
  {
   "cell_type": "code",
   "execution_count": 4,
   "id": "78241b7c",
   "metadata": {},
   "outputs": [
    {
     "name": "stdout",
     "output_type": "stream",
     "text": [
      "{1: 1, 3: 1, 22: 1, 5: 1}\n"
     ]
    }
   ],
   "source": [
    "for num in cards:\n",
    "    if not count_dict.get(num): # get 은 키값이 없어도 오류가 나지 않습니다.\n",
    "        count_dict[num] = 1 # 없는 경우는 1을 최초로 넣어줍니다.\n",
    "    else: # 있는 경우는\n",
    "        count_dict[num] += 1  # 1을 더해줍니다.\n",
    "\n",
    "print(count_dict) # {1: 1, 3: 1, 22: 1, 5: 1} -> 순서는 없지만 집계는 가능합니다."
   ]
  },
  {
   "cell_type": "code",
   "execution_count": 5,
   "id": "3bba6515",
   "metadata": {},
   "outputs": [],
   "source": [
    "my_dict = {'name':'a', 'age':3}"
   ]
  },
  {
   "cell_type": "code",
   "execution_count": 10,
   "id": "b61d8f3a",
   "metadata": {},
   "outputs": [
    {
     "name": "stdout",
     "output_type": "stream",
     "text": [
      "None\n"
     ]
    }
   ],
   "source": [
    "print(my_dict.get('address')) \n",
    "# get 함수: 딕셔너리에 없는 키값에 대한 반환을 none으로 돌려줌"
   ]
  },
  {
   "cell_type": "code",
   "execution_count": 11,
   "id": "785df2c4",
   "metadata": {},
   "outputs": [
    {
     "data": {
      "text/plain": [
       "{1: 1, 3: 1, 22: 1, 5: 1}"
      ]
     },
     "execution_count": 11,
     "metadata": {},
     "output_type": "execute_result"
    }
   ],
   "source": [
    "for num in cards:\n",
    "    if not count_dict.get(num): # get 은 키값이 없어도 오류가 나지 않습니다.\n",
    "        count_dict[num] = 1 # 없는 경우는 1을 최초로 넣어줍니다.\n",
    "\n",
    "count_dict"
   ]
  },
  {
   "cell_type": "code",
   "execution_count": null,
   "id": "964a3da3",
   "metadata": {},
   "outputs": [],
   "source": [
    "    else: # 있는 경우는\n",
    "        count_dict[num] += 1  # 1을 더해줍니다.\n",
    "\n",
    "print(count_dict) # {1: 1, 3: 1, 22: 1, 5: 1} -> 순서는 없지만 집계는 가능합니다."
   ]
  },
  {
   "cell_type": "code",
   "execution_count": null,
   "id": "61c48e8d",
   "metadata": {},
   "outputs": [],
   "source": []
  },
  {
   "cell_type": "code",
   "execution_count": 12,
   "id": "3d323a81",
   "metadata": {},
   "outputs": [
    {
     "data": {
      "text/plain": [
       "{1: 1, 3: 1, 22: 1, 5: 1}"
      ]
     },
     "execution_count": 12,
     "metadata": {},
     "output_type": "execute_result"
    }
   ],
   "source": [
    "for num in cards:\n",
    "    if count_dict.get(num): # get 은 키값이 없어도 오류가 나지 않습니다.\n",
    "        count_dict[num] = 1 # 없는 경우는 1을 최초로 넣어줍니다.\n",
    "\n",
    "count_dict"
   ]
  },
  {
   "cell_type": "code",
   "execution_count": 14,
   "id": "a98fd33f",
   "metadata": {},
   "outputs": [
    {
     "data": {
      "text/plain": [
       "'1 2 3 4 5'"
      ]
     },
     "execution_count": 14,
     "metadata": {},
     "output_type": "execute_result"
    }
   ],
   "source": [
    "str_nums = '1 2 3 4 5'\n",
    "str_nums"
   ]
  },
  {
   "cell_type": "code",
   "execution_count": 15,
   "id": "93396bd9",
   "metadata": {},
   "outputs": [
    {
     "data": {
      "text/plain": [
       "str"
      ]
     },
     "execution_count": 15,
     "metadata": {},
     "output_type": "execute_result"
    }
   ],
   "source": [
    "type(str_nums)"
   ]
  },
  {
   "cell_type": "code",
   "execution_count": 16,
   "id": "58912c1d",
   "metadata": {},
   "outputs": [
    {
     "data": {
      "text/plain": [
       "['1', '2', '3', '4', '5']"
      ]
     },
     "execution_count": 16,
     "metadata": {},
     "output_type": "execute_result"
    }
   ],
   "source": [
    "str_nums.split()"
   ]
  },
  {
   "cell_type": "code",
   "execution_count": 17,
   "id": "46c445f8",
   "metadata": {},
   "outputs": [],
   "source": [
    "# list to str"
   ]
  },
  {
   "cell_type": "code",
   "execution_count": 18,
   "id": "c22eb337",
   "metadata": {},
   "outputs": [],
   "source": [
    "a =['1','2','3','4','5']\n",
    "num_a = []\n",
    "for num in a:\n",
    "    num_a.append(int(num))"
   ]
  },
  {
   "cell_type": "code",
   "execution_count": 19,
   "id": "f0a243f5",
   "metadata": {},
   "outputs": [
    {
     "data": {
      "text/plain": [
       "[1, 2, 3, 4, 5]"
      ]
     },
     "execution_count": 19,
     "metadata": {},
     "output_type": "execute_result"
    }
   ],
   "source": [
    "num_a"
   ]
  },
  {
   "cell_type": "code",
   "execution_count": null,
   "id": "66efb424",
   "metadata": {},
   "outputs": [],
   "source": []
  },
  {
   "cell_type": "code",
   "execution_count": 21,
   "id": "7be85fbc",
   "metadata": {},
   "outputs": [],
   "source": [
    "# 상동 간단히"
   ]
  },
  {
   "cell_type": "code",
   "execution_count": 27,
   "id": "84dd93e8",
   "metadata": {},
   "outputs": [
    {
     "name": "stdout",
     "output_type": "stream",
     "text": [
      "1 2 3 4 5\n"
     ]
    }
   ],
   "source": [
    "nums = list(map(int, input().split()))"
   ]
  },
  {
   "cell_type": "code",
   "execution_count": null,
   "id": "b501dd3a",
   "metadata": {},
   "outputs": [],
   "source": []
  },
  {
   "cell_type": "code",
   "execution_count": 34,
   "id": "2111e080",
   "metadata": {},
   "outputs": [
    {
     "name": "stdout",
     "output_type": "stream",
     "text": [
      "1\n"
     ]
    }
   ],
   "source": [
    "T = int(input()) # 하나 받을 때"
   ]
  },
  {
   "cell_type": "code",
   "execution_count": null,
   "id": "0ce86605",
   "metadata": {},
   "outputs": [],
   "source": []
  },
  {
   "cell_type": "code",
   "execution_count": 29,
   "id": "c0c42b76",
   "metadata": {},
   "outputs": [
    {
     "name": "stdout",
     "output_type": "stream",
     "text": [
      "hello, I'm alex.\n"
     ]
    }
   ],
   "source": [
    "name = 'alex'\n",
    "print(f'hello, I\\'m {name}.')"
   ]
  },
  {
   "cell_type": "code",
   "execution_count": null,
   "id": "bd057a9a",
   "metadata": {},
   "outputs": [],
   "source": []
  },
  {
   "cell_type": "code",
   "execution_count": 31,
   "id": "518f9504",
   "metadata": {},
   "outputs": [
    {
     "name": "stdout",
     "output_type": "stream",
     "text": [
      "#1 630739\n"
     ]
    }
   ],
   "source": [
    "#1 630739\n",
    "\n",
    "tc = 1\n",
    "answer = 630739\n",
    "\n",
    "print(f'#{tc} {answer}')"
   ]
  },
  {
   "cell_type": "code",
   "execution_count": 32,
   "id": "e8547c0e",
   "metadata": {},
   "outputs": [
    {
     "name": "stdout",
     "output_type": "stream",
     "text": [
      "#1 630739\n"
     ]
    }
   ],
   "source": [
    "print('#{} {}'.format(tc, answer))"
   ]
  },
  {
   "cell_type": "code",
   "execution_count": null,
   "id": "8d2d9e4a",
   "metadata": {},
   "outputs": [],
   "source": []
  }
 ],
 "metadata": {
  "kernelspec": {
   "display_name": "Python 3 (ipykernel)",
   "language": "python",
   "name": "python3"
  },
  "language_info": {
   "codemirror_mode": {
    "name": "ipython",
    "version": 3
   },
   "file_extension": ".py",
   "mimetype": "text/x-python",
   "name": "python",
   "nbconvert_exporter": "python",
   "pygments_lexer": "ipython3",
   "version": "3.9.7"
  }
 },
 "nbformat": 4,
 "nbformat_minor": 5
}
